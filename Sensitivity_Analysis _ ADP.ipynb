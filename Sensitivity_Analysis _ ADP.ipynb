{
 "cells": [
  {
   "cell_type": "code",
   "execution_count": 2,
   "metadata": {},
   "outputs": [
    {
     "name": "stdout",
     "output_type": "stream",
     "text": [
      "Biosphere database already present!!! No setup is needed\n"
     ]
    },
    {
     "name": "stderr",
     "output_type": "stream",
     "text": [
      "Writing activities to SQLite3 database:\n",
      "0% [##############################] 100% | ETA: 00:00:00\n",
      "Total time elapsed: 00:00:11\n"
     ]
    },
    {
     "name": "stdout",
     "output_type": "stream",
     "text": [
      "Title: Writing activities to SQLite3 database:\n",
      "  Started: 10/23/2020 18:26:16\n",
      "  Finished: 10/23/2020 18:26:27\n",
      "  Total time elapsed: 00:00:11\n",
      "  CPU %: 68.00\n",
      "  Memory %: 1.10\n"
     ]
    },
    {
     "name": "stderr",
     "output_type": "stream",
     "text": [
      "Writing activities to SQLite3 database:\n",
      "0% [##############################] 100% | ETA: 00:00:00\n",
      "Total time elapsed: 00:00:00\n",
      "Writing activities to SQLite3 database:\n"
     ]
    },
    {
     "name": "stdout",
     "output_type": "stream",
     "text": [
      "Title: Writing activities to SQLite3 database:\n",
      "  Started: 10/23/2020 18:26:29\n",
      "  Finished: 10/23/2020 18:26:29\n",
      "  Total time elapsed: 00:00:00\n",
      "  CPU %: 100.80\n",
      "  Memory %: 1.10\n"
     ]
    },
    {
     "name": "stderr",
     "output_type": "stream",
     "text": [
      "0% [#] 100% | ETA: 00:00:00\n",
      "Total time elapsed: 00:00:00\n"
     ]
    },
    {
     "name": "stdout",
     "output_type": "stream",
     "text": [
      "Title: Writing activities to SQLite3 database:\n",
      "  Started: 10/23/2020 18:26:29\n",
      "  Finished: 10/23/2020 18:26:29\n",
      "  Total time elapsed: 00:00:00\n",
      "  CPU %: 97.70\n",
      "  Memory %: 1.09\n"
     ]
    }
   ],
   "source": [
    "from project_class import *\n",
    "from building_matrices import *\n",
    "from Compost_use import *\n",
    "from brightway2 import *\n",
    "from time import time\n",
    "from SWOLF_method import *\n",
    "from AbioticDepletion import import_aibiotic_depletion\n",
    "\n",
    "Treatment_processes = {}\n",
    "Treatment_processes['Compost_use']={'input_type':[],'model': Compost_use()}\n",
    "\n",
    "Treatment_processes['Compost_use']['model'].Compost_input.operation['choice_BU']['amount']=1\n",
    "\n",
    "demo = project(\"Compost_use\",Treatment_processes)\n",
    "demo.init_project('SWOLF_AccountMode_LCI DATA.csv')\n",
    "demo.write_project()\n",
    "demo.group_exchanges()\n",
    "import_methods()\n",
    "import_aibiotic_depletion()\n",
    "from Import_IPCC_new import *\n",
    "\n",
    "\n",
    "scenario1 = {\"Compost_use\":{\"Compost\":1}}\n",
    "demo.process_start_scenario(scenario1,'scenario1')"
   ]
  },
  {
   "cell_type": "code",
   "execution_count": 3,
   "metadata": {},
   "outputs": [],
   "source": [
    "from building_matrices import *\n",
    "from CommonData_for_Sensitivity_Analysis import *\n",
    "from Store_results import *\n",
    "import numpy as np\n",
    "\n",
    "project = \"Compost_use\"\n",
    "projects.set_current(project)\n",
    "db = Database(\"waste\")\n",
    "functional_unit = {db.get(\"scenario1\") : 1}\n",
    "method = [('CML (v4.4, 2015)', 'resources', 'depletion of abiotic resources - elements, ultimate reserves')]\n",
    "Treatment_processes = {}\n",
    "Treatment_processes['Compost_use']={'input_type':[],'model': Compost_use()}\n",
    "\n",
    "Treatment_processes['Compost_use']['model'].Compost_input.operation['choice_BU']['amount']=1\n",
    "\n",
    "process_models = list()\n",
    "process_model_names = list()\n",
    "process_models.append(Treatment_processes['Compost_use']['model'])\n",
    "process_model_names.append('Compost_use')\n",
    "CommonData = CommonData()"
   ]
  },
  {
   "cell_type": "markdown",
   "metadata": {},
   "source": [
    "# ADP"
   ]
  },
  {
   "cell_type": "code",
   "execution_count": 4,
   "metadata": {},
   "outputs": [],
   "source": [
    "Treatment_processes['Compost_use']['model'].Compost_input.initflow['N_cont']['list'] = \\\n",
    "    np.linspace(0.007,0.028,10).tolist()*10\n",
    "CommonData.Land_app['MFEN']['list'] = \\\n",
    "    np.repeat(np.linspace(0.2,0.8,10),10)\n",
    "    \n",
    "n=100\n",
    "a = ParallelData(functional_unit, method, project,process_models=process_models,process_model_names=process_model_names,common_data =CommonData ,seed = 100)\n",
    "a.run(1,n)\n",
    "t2=time()\n",
    "ADP_1=store_results(a.results)"
   ]
  },
  {
   "cell_type": "markdown",
   "metadata": {},
   "source": [
    "# BU = 0"
   ]
  },
  {
   "cell_type": "code",
   "execution_count": 5,
   "metadata": {
    "scrolled": true
   },
   "outputs": [
    {
     "name": "stdout",
     "output_type": "stream",
     "text": [
      "Biosphere database already present!!! No setup is needed\n"
     ]
    },
    {
     "name": "stderr",
     "output_type": "stream",
     "text": [
      "Writing activities to SQLite3 database:\n",
      "0% [##############################] 100% | ETA: 00:00:00\n",
      "Total time elapsed: 00:00:10\n"
     ]
    },
    {
     "name": "stdout",
     "output_type": "stream",
     "text": [
      "Title: Writing activities to SQLite3 database:\n",
      "  Started: 10/23/2020 18:26:49\n",
      "  Finished: 10/23/2020 18:26:59\n",
      "  Total time elapsed: 00:00:10\n",
      "  CPU %: 67.30\n",
      "  Memory %: 1.19\n"
     ]
    },
    {
     "name": "stderr",
     "output_type": "stream",
     "text": [
      "Writing activities to SQLite3 database:\n",
      "0% [##############################] 100% | ETA: 00:00:00\n",
      "Total time elapsed: 00:00:00\n"
     ]
    },
    {
     "name": "stdout",
     "output_type": "stream",
     "text": [
      "Title: Writing activities to SQLite3 database:\n",
      "  Started: 10/23/2020 18:27:01\n",
      "  Finished: 10/23/2020 18:27:01\n",
      "  Total time elapsed: 00:00:00\n",
      "  CPU %: 133.00\n",
      "  Memory %: 1.19\n"
     ]
    },
    {
     "name": "stderr",
     "output_type": "stream",
     "text": [
      "Writing activities to SQLite3 database:\n",
      "0% [#] 100% | ETA: 00:00:00\n",
      "Total time elapsed: 00:00:00\n"
     ]
    },
    {
     "name": "stdout",
     "output_type": "stream",
     "text": [
      "Title: Writing activities to SQLite3 database:\n",
      "  Started: 10/23/2020 18:27:01\n",
      "  Finished: 10/23/2020 18:27:01\n",
      "  Total time elapsed: 00:00:00\n",
      "  CPU %: 97.70\n",
      "  Memory %: 1.19\n"
     ]
    }
   ],
   "source": [
    "from project_class import *\n",
    "from building_matrices import *\n",
    "from Compost_use import *\n",
    "from brightway2 import *\n",
    "from time import time\n",
    "from SWOLF_method import *\n",
    "from AbioticDepletion import import_aibiotic_depletion\n",
    "\n",
    "Treatment_processes = {}\n",
    "Treatment_processes['Compost_use']={'input_type':[],'model': Compost_use()}\n",
    "\n",
    "Treatment_processes['Compost_use']['model'].Compost_input.operation['choice_BU']['amount']=0\n",
    "\n",
    "demo = project(\"Compost_use\",Treatment_processes)\n",
    "demo.init_project('SWOLF_AccountMode_LCI DATA.csv')\n",
    "demo.write_project()\n",
    "demo.group_exchanges()\n",
    "import_methods()\n",
    "import_aibiotic_depletion()\n",
    "from Import_IPCC_new import *\n",
    "\n",
    "\n",
    "scenario1 = {\"Compost_use\":{\"Compost\":1}}\n",
    "demo.process_start_scenario(scenario1,'scenario1')\n",
    "\n",
    "\n",
    "\n",
    "from building_matrices import *\n",
    "from CommonData_for_Sensitivity_Analysis import *\n",
    "from Store_results import *\n",
    "import numpy as np\n",
    "\n",
    "project = \"Compost_use\"\n",
    "projects.set_current(project)\n",
    "db = Database(\"waste\")\n",
    "functional_unit = {db.get(\"scenario1\") : 1}\n",
    "method = [('CML (v4.4, 2015)', 'resources', 'depletion of abiotic resources - elements, ultimate reserves')]\n",
    "Treatment_processes = {}\n",
    "Treatment_processes['Compost_use']={'input_type':[],'model': Compost_use()}\n",
    "\n",
    "Treatment_processes['Compost_use']['model'].Compost_input.operation['choice_BU']['amount']=0\n",
    "\n",
    "process_models = list()\n",
    "process_model_names = list()\n",
    "process_models.append(Treatment_processes['Compost_use']['model'])\n",
    "process_model_names.append('Compost_use')\n",
    "CommonData = CommonData()"
   ]
  },
  {
   "cell_type": "code",
   "execution_count": 6,
   "metadata": {},
   "outputs": [],
   "source": [
    "Treatment_processes['Compost_use']['model'].Compost_input.initflow['N_cont']['list'] = \\\n",
    "    np.linspace(0.007,0.028,10).tolist()*10\n",
    "CommonData.Land_app['MFEN']['list'] = \\\n",
    "    np.repeat(np.linspace(0.2,0.8,10),10)\n",
    "    \n",
    "n=100\n",
    "a = ParallelData(functional_unit, method, project,process_models=process_models,process_model_names=process_model_names,common_data =CommonData ,seed = 100)\n",
    "a.run(1,n)\n",
    "t2=time()\n",
    "ADP_0=store_results(a.results)"
   ]
  },
  {
   "cell_type": "markdown",
   "metadata": {},
   "source": [
    "# Clean DATA"
   ]
  },
  {
   "cell_type": "code",
   "execution_count": 7,
   "metadata": {},
   "outputs": [],
   "source": [
    "from copy import deepcopy\n",
    "import plotly.graph_objects as go"
   ]
  },
  {
   "cell_type": "code",
   "execution_count": 8,
   "metadata": {},
   "outputs": [],
   "source": [
    "ADP = deepcopy(ADP_0)\n",
    "ADP[('CML (v4.4, 2015)', 'resources', 'depletion of abiotic resources - elements, ultimate reserves')] = \\\n",
    "ADP_0[('CML (v4.4, 2015)', 'resources', 'depletion of abiotic resources - elements, ultimate reserves')] - \\\n",
    "ADP_1[('CML (v4.4, 2015)', 'resources', 'depletion of abiotic resources - elements, ultimate reserves')]"
   ]
  },
  {
   "cell_type": "code",
   "execution_count": 9,
   "metadata": {},
   "outputs": [],
   "source": [
    "config = {\n",
    "  'toImageButtonOptions': {\n",
    "    'format': 'png', # one of png, svg, jpeg, webp\n",
    "    'filename': 'custom_image',\n",
    "    'height': 700,\n",
    "    'width': 700,\n",
    "    'scale': 2 # Multiply title/legend/axis/canvas sizes by this factor\n",
    "  }\n",
    "}"
   ]
  },
  {
   "cell_type": "code",
   "execution_count": 13,
   "metadata": {},
   "outputs": [
    {
     "data": {
      "application/vnd.plotly.v1+json": {
       "config": {
        "plotlyServerURL": "https://plot.ly",
        "responsive": true,
        "toImageButtonOptions": {
         "filename": "custom_image",
         "format": "png",
         "height": 700,
         "scale": 2,
         "width": 700
        }
       },
       "data": [
        {
         "colorscale": [
          [
           0,
           "rgb(0,0,131)"
          ],
          [
           0.2,
           "rgb(0,60,170)"
          ],
          [
           0.4,
           "rgb(5,255,255)"
          ],
          [
           0.6,
           "rgb(255,255,0)"
          ],
          [
           0.8,
           "rgb(250,0,0)"
          ],
          [
           1,
           "rgb(128,0,0)"
          ]
         ],
         "contours": {
          "end": 0.001,
          "labelfont": {
           "color": "black",
           "size": 24
          },
          "showlabels": true,
          "size": 5e-05,
          "start": 1e-06
         },
         "type": "contour",
         "x": [
          0.7000000000000001,
          0.9333333333333335,
          1.1666666666666667,
          1.4000000000000001,
          1.6333333333333335,
          1.866666666666667,
          2.1,
          2.3333333333333335,
          2.566666666666667,
          2.8000000000000003
         ],
         "y": [
          0.2,
          0.2666666666666667,
          0.33333333333333337,
          0.4,
          0.46666666666666673,
          0.5333333333333334,
          0.6000000000000001,
          0.6666666666666667,
          0.7333333333333334,
          0.8
         ],
         "z": [
          [
           9.134188385894315e-05,
           0.0001092289837275444,
           0.00012711608359614567,
           0.00014500318346474691,
           0.0001628902833333482,
           0.00018077738320194944,
           0.00019866448307055066,
           0.00021655158293915197,
           0.00023443868280775322,
           0.0002523257826763545
          ],
          [
           0.0001092289837275444,
           0.00013307845021901272,
           0.0001569279167104811,
           0.00018077738320194944,
           0.0002046268496934178,
           0.00022847631618488613,
           0.00025232578267635463,
           0.00027617524916782285,
           0.00030002471565929124,
           0.0003238741821507595
          ],
          [
           0.00012711608359614567,
           0.0001569279167104811,
           0.00018673974982481652,
           0.00021655158293915197,
           0.00024636341605348744,
           0.00027617524916782285,
           0.00030598708228215827,
           0.00033579891539649374,
           0.00036561074851082916,
           0.00039542258162516457
          ],
          [
           0.00014500318346474691,
           0.00018077738320194944,
           0.00021655158293915197,
           0.0002523257826763546,
           0.0002880999824135571,
           0.0003238741821507595,
           0.000359648381887962,
           0.00039542258162516457,
           0.00043119678136236696,
           0.0004669709810995696
          ],
          [
           0.0001628902833333482,
           0.0002046268496934178,
           0.00024636341605348744,
           0.0002880999824135571,
           0.0003298365487736266,
           0.0003715731151336963,
           0.0004133096814937659,
           0.00045504624785383546,
           0.000496782814213905,
           0.0005385193805739745
          ],
          [
           0.00018077738320194944,
           0.00022847631618488613,
           0.00027617524916782285,
           0.00032387418215075963,
           0.0003715731151336963,
           0.00041927204811663296,
           0.00046697098109956973,
           0.0005146699140825063,
           0.000562368847065443,
           0.0006100677800483798
          ],
          [
           0.00019866448307055072,
           0.0002523257826763546,
           0.00030598708228215827,
           0.00035964838188796207,
           0.0004133096814937659,
           0.0004669709810995697,
           0.0005206322807053734,
           0.0005742935803111771,
           0.0006279548799169809,
           0.0006816161795227849
          ],
          [
           0.00021655158293915197,
           0.00027617524916782285,
           0.00033579891539649374,
           0.00039542258162516457,
           0.00045504624785383546,
           0.0005146699140825063,
           0.0005742935803111771,
           0.0006339172465398479,
           0.000693540912768519,
           0.0007531645789971898
          ],
          [
           0.00023443868280775322,
           0.00030002471565929124,
           0.00036561074851082905,
           0.00043119678136236707,
           0.000496782814213905,
           0.0005623688470654429,
           0.0006279548799169809,
           0.0006935409127685188,
           0.0007591269456200567,
           0.0008247129784715948
          ],
          [
           0.0002523257826763545,
           0.0003238741821507595,
           0.00039542258162516457,
           0.0004669709810995697,
           0.0005385193805739745,
           0.0006100677800483798,
           0.0006816161795227847,
           0.0007531645789971898,
           0.0008247129784715948,
           0.0008962613779459996
          ]
         ]
        },
        {
         "line": {
          "color": "white",
          "dash": "dash",
          "width": 2
         },
         "mode": "lines",
         "showlegend": false,
         "type": "scatter",
         "x": [
          0.7,
          2.8
         ],
         "y": [
          0.6,
          0.6
         ]
        },
        {
         "line": {
          "color": "white",
          "dash": "dash",
          "width": 2
         },
         "mode": "lines",
         "showlegend": false,
         "type": "scatter",
         "x": [
          1.5,
          1.5
         ],
         "y": [
          0.2,
          0.8
         ]
        }
       ],
       "layout": {
        "autosize": false,
        "font": {
         "color": "black",
         "family": "sans serif",
         "size": 24
        },
        "height": 500,
        "margin": {
         "b": 100,
         "l": 50,
         "pad": 0,
         "r": 50,
         "t": 100
        },
        "template": {
         "data": {
          "bar": [
           {
            "error_x": {
             "color": "#2a3f5f"
            },
            "error_y": {
             "color": "#2a3f5f"
            },
            "marker": {
             "line": {
              "color": "#E5ECF6",
              "width": 0.5
             }
            },
            "type": "bar"
           }
          ],
          "barpolar": [
           {
            "marker": {
             "line": {
              "color": "#E5ECF6",
              "width": 0.5
             }
            },
            "type": "barpolar"
           }
          ],
          "carpet": [
           {
            "aaxis": {
             "endlinecolor": "#2a3f5f",
             "gridcolor": "white",
             "linecolor": "white",
             "minorgridcolor": "white",
             "startlinecolor": "#2a3f5f"
            },
            "baxis": {
             "endlinecolor": "#2a3f5f",
             "gridcolor": "white",
             "linecolor": "white",
             "minorgridcolor": "white",
             "startlinecolor": "#2a3f5f"
            },
            "type": "carpet"
           }
          ],
          "choropleth": [
           {
            "colorbar": {
             "outlinewidth": 0,
             "ticks": ""
            },
            "type": "choropleth"
           }
          ],
          "contour": [
           {
            "colorbar": {
             "outlinewidth": 0,
             "ticks": ""
            },
            "colorscale": [
             [
              0,
              "#0d0887"
             ],
             [
              0.1111111111111111,
              "#46039f"
             ],
             [
              0.2222222222222222,
              "#7201a8"
             ],
             [
              0.3333333333333333,
              "#9c179e"
             ],
             [
              0.4444444444444444,
              "#bd3786"
             ],
             [
              0.5555555555555556,
              "#d8576b"
             ],
             [
              0.6666666666666666,
              "#ed7953"
             ],
             [
              0.7777777777777778,
              "#fb9f3a"
             ],
             [
              0.8888888888888888,
              "#fdca26"
             ],
             [
              1,
              "#f0f921"
             ]
            ],
            "type": "contour"
           }
          ],
          "contourcarpet": [
           {
            "colorbar": {
             "outlinewidth": 0,
             "ticks": ""
            },
            "type": "contourcarpet"
           }
          ],
          "heatmap": [
           {
            "colorbar": {
             "outlinewidth": 0,
             "ticks": ""
            },
            "colorscale": [
             [
              0,
              "#0d0887"
             ],
             [
              0.1111111111111111,
              "#46039f"
             ],
             [
              0.2222222222222222,
              "#7201a8"
             ],
             [
              0.3333333333333333,
              "#9c179e"
             ],
             [
              0.4444444444444444,
              "#bd3786"
             ],
             [
              0.5555555555555556,
              "#d8576b"
             ],
             [
              0.6666666666666666,
              "#ed7953"
             ],
             [
              0.7777777777777778,
              "#fb9f3a"
             ],
             [
              0.8888888888888888,
              "#fdca26"
             ],
             [
              1,
              "#f0f921"
             ]
            ],
            "type": "heatmap"
           }
          ],
          "heatmapgl": [
           {
            "colorbar": {
             "outlinewidth": 0,
             "ticks": ""
            },
            "colorscale": [
             [
              0,
              "#0d0887"
             ],
             [
              0.1111111111111111,
              "#46039f"
             ],
             [
              0.2222222222222222,
              "#7201a8"
             ],
             [
              0.3333333333333333,
              "#9c179e"
             ],
             [
              0.4444444444444444,
              "#bd3786"
             ],
             [
              0.5555555555555556,
              "#d8576b"
             ],
             [
              0.6666666666666666,
              "#ed7953"
             ],
             [
              0.7777777777777778,
              "#fb9f3a"
             ],
             [
              0.8888888888888888,
              "#fdca26"
             ],
             [
              1,
              "#f0f921"
             ]
            ],
            "type": "heatmapgl"
           }
          ],
          "histogram": [
           {
            "marker": {
             "colorbar": {
              "outlinewidth": 0,
              "ticks": ""
             }
            },
            "type": "histogram"
           }
          ],
          "histogram2d": [
           {
            "colorbar": {
             "outlinewidth": 0,
             "ticks": ""
            },
            "colorscale": [
             [
              0,
              "#0d0887"
             ],
             [
              0.1111111111111111,
              "#46039f"
             ],
             [
              0.2222222222222222,
              "#7201a8"
             ],
             [
              0.3333333333333333,
              "#9c179e"
             ],
             [
              0.4444444444444444,
              "#bd3786"
             ],
             [
              0.5555555555555556,
              "#d8576b"
             ],
             [
              0.6666666666666666,
              "#ed7953"
             ],
             [
              0.7777777777777778,
              "#fb9f3a"
             ],
             [
              0.8888888888888888,
              "#fdca26"
             ],
             [
              1,
              "#f0f921"
             ]
            ],
            "type": "histogram2d"
           }
          ],
          "histogram2dcontour": [
           {
            "colorbar": {
             "outlinewidth": 0,
             "ticks": ""
            },
            "colorscale": [
             [
              0,
              "#0d0887"
             ],
             [
              0.1111111111111111,
              "#46039f"
             ],
             [
              0.2222222222222222,
              "#7201a8"
             ],
             [
              0.3333333333333333,
              "#9c179e"
             ],
             [
              0.4444444444444444,
              "#bd3786"
             ],
             [
              0.5555555555555556,
              "#d8576b"
             ],
             [
              0.6666666666666666,
              "#ed7953"
             ],
             [
              0.7777777777777778,
              "#fb9f3a"
             ],
             [
              0.8888888888888888,
              "#fdca26"
             ],
             [
              1,
              "#f0f921"
             ]
            ],
            "type": "histogram2dcontour"
           }
          ],
          "mesh3d": [
           {
            "colorbar": {
             "outlinewidth": 0,
             "ticks": ""
            },
            "type": "mesh3d"
           }
          ],
          "parcoords": [
           {
            "line": {
             "colorbar": {
              "outlinewidth": 0,
              "ticks": ""
             }
            },
            "type": "parcoords"
           }
          ],
          "pie": [
           {
            "automargin": true,
            "type": "pie"
           }
          ],
          "scatter": [
           {
            "marker": {
             "colorbar": {
              "outlinewidth": 0,
              "ticks": ""
             }
            },
            "type": "scatter"
           }
          ],
          "scatter3d": [
           {
            "line": {
             "colorbar": {
              "outlinewidth": 0,
              "ticks": ""
             }
            },
            "marker": {
             "colorbar": {
              "outlinewidth": 0,
              "ticks": ""
             }
            },
            "type": "scatter3d"
           }
          ],
          "scattercarpet": [
           {
            "marker": {
             "colorbar": {
              "outlinewidth": 0,
              "ticks": ""
             }
            },
            "type": "scattercarpet"
           }
          ],
          "scattergeo": [
           {
            "marker": {
             "colorbar": {
              "outlinewidth": 0,
              "ticks": ""
             }
            },
            "type": "scattergeo"
           }
          ],
          "scattergl": [
           {
            "marker": {
             "colorbar": {
              "outlinewidth": 0,
              "ticks": ""
             }
            },
            "type": "scattergl"
           }
          ],
          "scattermapbox": [
           {
            "marker": {
             "colorbar": {
              "outlinewidth": 0,
              "ticks": ""
             }
            },
            "type": "scattermapbox"
           }
          ],
          "scatterpolar": [
           {
            "marker": {
             "colorbar": {
              "outlinewidth": 0,
              "ticks": ""
             }
            },
            "type": "scatterpolar"
           }
          ],
          "scatterpolargl": [
           {
            "marker": {
             "colorbar": {
              "outlinewidth": 0,
              "ticks": ""
             }
            },
            "type": "scatterpolargl"
           }
          ],
          "scatterternary": [
           {
            "marker": {
             "colorbar": {
              "outlinewidth": 0,
              "ticks": ""
             }
            },
            "type": "scatterternary"
           }
          ],
          "surface": [
           {
            "colorbar": {
             "outlinewidth": 0,
             "ticks": ""
            },
            "colorscale": [
             [
              0,
              "#0d0887"
             ],
             [
              0.1111111111111111,
              "#46039f"
             ],
             [
              0.2222222222222222,
              "#7201a8"
             ],
             [
              0.3333333333333333,
              "#9c179e"
             ],
             [
              0.4444444444444444,
              "#bd3786"
             ],
             [
              0.5555555555555556,
              "#d8576b"
             ],
             [
              0.6666666666666666,
              "#ed7953"
             ],
             [
              0.7777777777777778,
              "#fb9f3a"
             ],
             [
              0.8888888888888888,
              "#fdca26"
             ],
             [
              1,
              "#f0f921"
             ]
            ],
            "type": "surface"
           }
          ],
          "table": [
           {
            "cells": {
             "fill": {
              "color": "#EBF0F8"
             },
             "line": {
              "color": "white"
             }
            },
            "header": {
             "fill": {
              "color": "#C8D4E3"
             },
             "line": {
              "color": "white"
             }
            },
            "type": "table"
           }
          ]
         },
         "layout": {
          "annotationdefaults": {
           "arrowcolor": "#2a3f5f",
           "arrowhead": 0,
           "arrowwidth": 1
          },
          "coloraxis": {
           "colorbar": {
            "outlinewidth": 0,
            "ticks": ""
           }
          },
          "colorscale": {
           "diverging": [
            [
             0,
             "#8e0152"
            ],
            [
             0.1,
             "#c51b7d"
            ],
            [
             0.2,
             "#de77ae"
            ],
            [
             0.3,
             "#f1b6da"
            ],
            [
             0.4,
             "#fde0ef"
            ],
            [
             0.5,
             "#f7f7f7"
            ],
            [
             0.6,
             "#e6f5d0"
            ],
            [
             0.7,
             "#b8e186"
            ],
            [
             0.8,
             "#7fbc41"
            ],
            [
             0.9,
             "#4d9221"
            ],
            [
             1,
             "#276419"
            ]
           ],
           "sequential": [
            [
             0,
             "#0d0887"
            ],
            [
             0.1111111111111111,
             "#46039f"
            ],
            [
             0.2222222222222222,
             "#7201a8"
            ],
            [
             0.3333333333333333,
             "#9c179e"
            ],
            [
             0.4444444444444444,
             "#bd3786"
            ],
            [
             0.5555555555555556,
             "#d8576b"
            ],
            [
             0.6666666666666666,
             "#ed7953"
            ],
            [
             0.7777777777777778,
             "#fb9f3a"
            ],
            [
             0.8888888888888888,
             "#fdca26"
            ],
            [
             1,
             "#f0f921"
            ]
           ],
           "sequentialminus": [
            [
             0,
             "#0d0887"
            ],
            [
             0.1111111111111111,
             "#46039f"
            ],
            [
             0.2222222222222222,
             "#7201a8"
            ],
            [
             0.3333333333333333,
             "#9c179e"
            ],
            [
             0.4444444444444444,
             "#bd3786"
            ],
            [
             0.5555555555555556,
             "#d8576b"
            ],
            [
             0.6666666666666666,
             "#ed7953"
            ],
            [
             0.7777777777777778,
             "#fb9f3a"
            ],
            [
             0.8888888888888888,
             "#fdca26"
            ],
            [
             1,
             "#f0f921"
            ]
           ]
          },
          "colorway": [
           "#636efa",
           "#EF553B",
           "#00cc96",
           "#ab63fa",
           "#FFA15A",
           "#19d3f3",
           "#FF6692",
           "#B6E880",
           "#FF97FF",
           "#FECB52"
          ],
          "font": {
           "color": "#2a3f5f"
          },
          "geo": {
           "bgcolor": "white",
           "lakecolor": "white",
           "landcolor": "#E5ECF6",
           "showlakes": true,
           "showland": true,
           "subunitcolor": "white"
          },
          "hoverlabel": {
           "align": "left"
          },
          "hovermode": "closest",
          "mapbox": {
           "style": "light"
          },
          "paper_bgcolor": "white",
          "plot_bgcolor": "#E5ECF6",
          "polar": {
           "angularaxis": {
            "gridcolor": "white",
            "linecolor": "white",
            "ticks": ""
           },
           "bgcolor": "#E5ECF6",
           "radialaxis": {
            "gridcolor": "white",
            "linecolor": "white",
            "ticks": ""
           }
          },
          "scene": {
           "xaxis": {
            "backgroundcolor": "#E5ECF6",
            "gridcolor": "white",
            "gridwidth": 2,
            "linecolor": "white",
            "showbackground": true,
            "ticks": "",
            "zerolinecolor": "white"
           },
           "yaxis": {
            "backgroundcolor": "#E5ECF6",
            "gridcolor": "white",
            "gridwidth": 2,
            "linecolor": "white",
            "showbackground": true,
            "ticks": "",
            "zerolinecolor": "white"
           },
           "zaxis": {
            "backgroundcolor": "#E5ECF6",
            "gridcolor": "white",
            "gridwidth": 2,
            "linecolor": "white",
            "showbackground": true,
            "ticks": "",
            "zerolinecolor": "white"
           }
          },
          "shapedefaults": {
           "line": {
            "color": "#2a3f5f"
           }
          },
          "ternary": {
           "aaxis": {
            "gridcolor": "white",
            "linecolor": "white",
            "ticks": ""
           },
           "baxis": {
            "gridcolor": "white",
            "linecolor": "white",
            "ticks": ""
           },
           "bgcolor": "#E5ECF6",
           "caxis": {
            "gridcolor": "white",
            "linecolor": "white",
            "ticks": ""
           }
          },
          "title": {
           "x": 0.05
          },
          "xaxis": {
           "automargin": true,
           "gridcolor": "white",
           "linecolor": "white",
           "ticks": "",
           "title": {
            "standoff": 15
           },
           "zerolinecolor": "white",
           "zerolinewidth": 2
          },
          "yaxis": {
           "automargin": true,
           "gridcolor": "white",
           "linecolor": "white",
           "ticks": "",
           "title": {
            "standoff": 15
           },
           "zerolinecolor": "white",
           "zerolinewidth": 2
          }
         }
        },
        "width": 500,
        "xaxis": {
         "range": [
          "N_cont",
          "initflow"
         ],
         "title": {
          "text": "$Compost\\ N\\ Content\\ (\\%)$"
         }
        },
        "yaxis": {
         "range": [
          "Land_app",
          "MFEN"
         ],
         "title": {
          "text": "$MFEN$"
         }
        }
       }
      },
      "text/html": [
       "<div>\n",
       "        \n",
       "        \n",
       "            <div id=\"d9c73441-fe41-4967-af7a-e24cce48fee3\" class=\"plotly-graph-div\" style=\"height:500px; width:500px;\"></div>\n",
       "            <script type=\"text/javascript\">\n",
       "                require([\"plotly\"], function(Plotly) {\n",
       "                    window.PLOTLYENV=window.PLOTLYENV || {};\n",
       "                    \n",
       "                if (document.getElementById(\"d9c73441-fe41-4967-af7a-e24cce48fee3\")) {\n",
       "                    Plotly.newPlot(\n",
       "                        'd9c73441-fe41-4967-af7a-e24cce48fee3',\n",
       "                        [{\"colorscale\": [[0.0, \"rgb(0,0,131)\"], [0.2, \"rgb(0,60,170)\"], [0.4, \"rgb(5,255,255)\"], [0.6, \"rgb(255,255,0)\"], [0.8, \"rgb(250,0,0)\"], [1.0, \"rgb(128,0,0)\"]], \"contours\": {\"end\": 0.001, \"labelfont\": {\"color\": \"black\", \"size\": 24}, \"showlabels\": true, \"size\": 5e-05, \"start\": 1e-06}, \"type\": \"contour\", \"x\": [0.7000000000000001, 0.9333333333333335, 1.1666666666666667, 1.4000000000000001, 1.6333333333333335, 1.866666666666667, 2.1, 2.3333333333333335, 2.566666666666667, 2.8000000000000003], \"y\": [0.2, 0.2666666666666667, 0.33333333333333337, 0.4, 0.46666666666666673, 0.5333333333333334, 0.6000000000000001, 0.6666666666666667, 0.7333333333333334, 0.8], \"z\": [[9.134188385894315e-05, 0.0001092289837275444, 0.00012711608359614567, 0.00014500318346474691, 0.0001628902833333482, 0.00018077738320194944, 0.00019866448307055066, 0.00021655158293915197, 0.00023443868280775322, 0.0002523257826763545], [0.0001092289837275444, 0.00013307845021901272, 0.0001569279167104811, 0.00018077738320194944, 0.0002046268496934178, 0.00022847631618488613, 0.00025232578267635463, 0.00027617524916782285, 0.00030002471565929124, 0.0003238741821507595], [0.00012711608359614567, 0.0001569279167104811, 0.00018673974982481652, 0.00021655158293915197, 0.00024636341605348744, 0.00027617524916782285, 0.00030598708228215827, 0.00033579891539649374, 0.00036561074851082916, 0.00039542258162516457], [0.00014500318346474691, 0.00018077738320194944, 0.00021655158293915197, 0.0002523257826763546, 0.0002880999824135571, 0.0003238741821507595, 0.000359648381887962, 0.00039542258162516457, 0.00043119678136236696, 0.0004669709810995696], [0.0001628902833333482, 0.0002046268496934178, 0.00024636341605348744, 0.0002880999824135571, 0.0003298365487736266, 0.0003715731151336963, 0.0004133096814937659, 0.00045504624785383546, 0.000496782814213905, 0.0005385193805739745], [0.00018077738320194944, 0.00022847631618488613, 0.00027617524916782285, 0.00032387418215075963, 0.0003715731151336963, 0.00041927204811663296, 0.00046697098109956973, 0.0005146699140825063, 0.000562368847065443, 0.0006100677800483798], [0.00019866448307055072, 0.0002523257826763546, 0.00030598708228215827, 0.00035964838188796207, 0.0004133096814937659, 0.0004669709810995697, 0.0005206322807053734, 0.0005742935803111771, 0.0006279548799169809, 0.0006816161795227849], [0.00021655158293915197, 0.00027617524916782285, 0.00033579891539649374, 0.00039542258162516457, 0.00045504624785383546, 0.0005146699140825063, 0.0005742935803111771, 0.0006339172465398479, 0.000693540912768519, 0.0007531645789971898], [0.00023443868280775322, 0.00030002471565929124, 0.00036561074851082905, 0.00043119678136236707, 0.000496782814213905, 0.0005623688470654429, 0.0006279548799169809, 0.0006935409127685188, 0.0007591269456200567, 0.0008247129784715948], [0.0002523257826763545, 0.0003238741821507595, 0.00039542258162516457, 0.0004669709810995697, 0.0005385193805739745, 0.0006100677800483798, 0.0006816161795227847, 0.0007531645789971898, 0.0008247129784715948, 0.0008962613779459996]]}, {\"line\": {\"color\": \"white\", \"dash\": \"dash\", \"width\": 2}, \"mode\": \"lines\", \"showlegend\": false, \"type\": \"scatter\", \"x\": [0.7, 2.8], \"y\": [0.6, 0.6]}, {\"line\": {\"color\": \"white\", \"dash\": \"dash\", \"width\": 2}, \"mode\": \"lines\", \"showlegend\": false, \"type\": \"scatter\", \"x\": [1.5, 1.5], \"y\": [0.2, 0.8]}],\n",
       "                        {\"autosize\": false, \"font\": {\"color\": \"black\", \"family\": \"sans serif\", \"size\": 24}, \"height\": 500, \"margin\": {\"b\": 100, \"l\": 50, \"pad\": 0, \"r\": 50, \"t\": 100}, \"template\": {\"data\": {\"bar\": [{\"error_x\": {\"color\": \"#2a3f5f\"}, \"error_y\": {\"color\": \"#2a3f5f\"}, \"marker\": {\"line\": {\"color\": \"#E5ECF6\", \"width\": 0.5}}, \"type\": \"bar\"}], \"barpolar\": [{\"marker\": {\"line\": {\"color\": \"#E5ECF6\", \"width\": 0.5}}, \"type\": \"barpolar\"}], \"carpet\": [{\"aaxis\": {\"endlinecolor\": \"#2a3f5f\", \"gridcolor\": \"white\", \"linecolor\": \"white\", \"minorgridcolor\": \"white\", \"startlinecolor\": \"#2a3f5f\"}, \"baxis\": {\"endlinecolor\": \"#2a3f5f\", \"gridcolor\": \"white\", \"linecolor\": \"white\", \"minorgridcolor\": \"white\", \"startlinecolor\": \"#2a3f5f\"}, \"type\": \"carpet\"}], \"choropleth\": [{\"colorbar\": {\"outlinewidth\": 0, \"ticks\": \"\"}, \"type\": \"choropleth\"}], \"contour\": [{\"colorbar\": {\"outlinewidth\": 0, \"ticks\": \"\"}, \"colorscale\": [[0.0, \"#0d0887\"], [0.1111111111111111, \"#46039f\"], [0.2222222222222222, \"#7201a8\"], [0.3333333333333333, \"#9c179e\"], [0.4444444444444444, \"#bd3786\"], [0.5555555555555556, \"#d8576b\"], [0.6666666666666666, \"#ed7953\"], [0.7777777777777778, \"#fb9f3a\"], [0.8888888888888888, \"#fdca26\"], [1.0, \"#f0f921\"]], \"type\": \"contour\"}], \"contourcarpet\": [{\"colorbar\": {\"outlinewidth\": 0, \"ticks\": \"\"}, \"type\": \"contourcarpet\"}], \"heatmap\": [{\"colorbar\": {\"outlinewidth\": 0, \"ticks\": \"\"}, \"colorscale\": [[0.0, \"#0d0887\"], [0.1111111111111111, \"#46039f\"], [0.2222222222222222, \"#7201a8\"], [0.3333333333333333, \"#9c179e\"], [0.4444444444444444, \"#bd3786\"], [0.5555555555555556, \"#d8576b\"], [0.6666666666666666, \"#ed7953\"], [0.7777777777777778, \"#fb9f3a\"], [0.8888888888888888, \"#fdca26\"], [1.0, \"#f0f921\"]], \"type\": \"heatmap\"}], \"heatmapgl\": [{\"colorbar\": {\"outlinewidth\": 0, \"ticks\": \"\"}, \"colorscale\": [[0.0, \"#0d0887\"], [0.1111111111111111, \"#46039f\"], [0.2222222222222222, \"#7201a8\"], [0.3333333333333333, \"#9c179e\"], [0.4444444444444444, \"#bd3786\"], [0.5555555555555556, \"#d8576b\"], [0.6666666666666666, \"#ed7953\"], [0.7777777777777778, \"#fb9f3a\"], [0.8888888888888888, \"#fdca26\"], [1.0, \"#f0f921\"]], \"type\": \"heatmapgl\"}], \"histogram\": [{\"marker\": {\"colorbar\": {\"outlinewidth\": 0, \"ticks\": \"\"}}, \"type\": \"histogram\"}], \"histogram2d\": [{\"colorbar\": {\"outlinewidth\": 0, \"ticks\": \"\"}, \"colorscale\": [[0.0, \"#0d0887\"], [0.1111111111111111, \"#46039f\"], [0.2222222222222222, \"#7201a8\"], [0.3333333333333333, \"#9c179e\"], [0.4444444444444444, \"#bd3786\"], [0.5555555555555556, \"#d8576b\"], [0.6666666666666666, \"#ed7953\"], [0.7777777777777778, \"#fb9f3a\"], [0.8888888888888888, \"#fdca26\"], [1.0, \"#f0f921\"]], \"type\": \"histogram2d\"}], \"histogram2dcontour\": [{\"colorbar\": {\"outlinewidth\": 0, \"ticks\": \"\"}, \"colorscale\": [[0.0, \"#0d0887\"], [0.1111111111111111, \"#46039f\"], [0.2222222222222222, \"#7201a8\"], [0.3333333333333333, \"#9c179e\"], [0.4444444444444444, \"#bd3786\"], [0.5555555555555556, \"#d8576b\"], [0.6666666666666666, \"#ed7953\"], [0.7777777777777778, \"#fb9f3a\"], [0.8888888888888888, \"#fdca26\"], [1.0, \"#f0f921\"]], \"type\": \"histogram2dcontour\"}], \"mesh3d\": [{\"colorbar\": {\"outlinewidth\": 0, \"ticks\": \"\"}, \"type\": \"mesh3d\"}], \"parcoords\": [{\"line\": {\"colorbar\": {\"outlinewidth\": 0, \"ticks\": \"\"}}, \"type\": \"parcoords\"}], \"pie\": [{\"automargin\": true, \"type\": \"pie\"}], \"scatter\": [{\"marker\": {\"colorbar\": {\"outlinewidth\": 0, \"ticks\": \"\"}}, \"type\": \"scatter\"}], \"scatter3d\": [{\"line\": {\"colorbar\": {\"outlinewidth\": 0, \"ticks\": \"\"}}, \"marker\": {\"colorbar\": {\"outlinewidth\": 0, \"ticks\": \"\"}}, \"type\": \"scatter3d\"}], \"scattercarpet\": [{\"marker\": {\"colorbar\": {\"outlinewidth\": 0, \"ticks\": \"\"}}, \"type\": \"scattercarpet\"}], \"scattergeo\": [{\"marker\": {\"colorbar\": {\"outlinewidth\": 0, \"ticks\": \"\"}}, \"type\": \"scattergeo\"}], \"scattergl\": [{\"marker\": {\"colorbar\": {\"outlinewidth\": 0, \"ticks\": \"\"}}, \"type\": \"scattergl\"}], \"scattermapbox\": [{\"marker\": {\"colorbar\": {\"outlinewidth\": 0, \"ticks\": \"\"}}, \"type\": \"scattermapbox\"}], \"scatterpolar\": [{\"marker\": {\"colorbar\": {\"outlinewidth\": 0, \"ticks\": \"\"}}, \"type\": \"scatterpolar\"}], \"scatterpolargl\": [{\"marker\": {\"colorbar\": {\"outlinewidth\": 0, \"ticks\": \"\"}}, \"type\": \"scatterpolargl\"}], \"scatterternary\": [{\"marker\": {\"colorbar\": {\"outlinewidth\": 0, \"ticks\": \"\"}}, \"type\": \"scatterternary\"}], \"surface\": [{\"colorbar\": {\"outlinewidth\": 0, \"ticks\": \"\"}, \"colorscale\": [[0.0, \"#0d0887\"], [0.1111111111111111, \"#46039f\"], [0.2222222222222222, \"#7201a8\"], [0.3333333333333333, \"#9c179e\"], [0.4444444444444444, \"#bd3786\"], [0.5555555555555556, \"#d8576b\"], [0.6666666666666666, \"#ed7953\"], [0.7777777777777778, \"#fb9f3a\"], [0.8888888888888888, \"#fdca26\"], [1.0, \"#f0f921\"]], \"type\": \"surface\"}], \"table\": [{\"cells\": {\"fill\": {\"color\": \"#EBF0F8\"}, \"line\": {\"color\": \"white\"}}, \"header\": {\"fill\": {\"color\": \"#C8D4E3\"}, \"line\": {\"color\": \"white\"}}, \"type\": \"table\"}]}, \"layout\": {\"annotationdefaults\": {\"arrowcolor\": \"#2a3f5f\", \"arrowhead\": 0, \"arrowwidth\": 1}, \"coloraxis\": {\"colorbar\": {\"outlinewidth\": 0, \"ticks\": \"\"}}, \"colorscale\": {\"diverging\": [[0, \"#8e0152\"], [0.1, \"#c51b7d\"], [0.2, \"#de77ae\"], [0.3, \"#f1b6da\"], [0.4, \"#fde0ef\"], [0.5, \"#f7f7f7\"], [0.6, \"#e6f5d0\"], [0.7, \"#b8e186\"], [0.8, \"#7fbc41\"], [0.9, \"#4d9221\"], [1, \"#276419\"]], \"sequential\": [[0.0, \"#0d0887\"], [0.1111111111111111, \"#46039f\"], [0.2222222222222222, \"#7201a8\"], [0.3333333333333333, \"#9c179e\"], [0.4444444444444444, \"#bd3786\"], [0.5555555555555556, \"#d8576b\"], [0.6666666666666666, \"#ed7953\"], [0.7777777777777778, \"#fb9f3a\"], [0.8888888888888888, \"#fdca26\"], [1.0, \"#f0f921\"]], \"sequentialminus\": [[0.0, \"#0d0887\"], [0.1111111111111111, \"#46039f\"], [0.2222222222222222, \"#7201a8\"], [0.3333333333333333, \"#9c179e\"], [0.4444444444444444, \"#bd3786\"], [0.5555555555555556, \"#d8576b\"], [0.6666666666666666, \"#ed7953\"], [0.7777777777777778, \"#fb9f3a\"], [0.8888888888888888, \"#fdca26\"], [1.0, \"#f0f921\"]]}, \"colorway\": [\"#636efa\", \"#EF553B\", \"#00cc96\", \"#ab63fa\", \"#FFA15A\", \"#19d3f3\", \"#FF6692\", \"#B6E880\", \"#FF97FF\", \"#FECB52\"], \"font\": {\"color\": \"#2a3f5f\"}, \"geo\": {\"bgcolor\": \"white\", \"lakecolor\": \"white\", \"landcolor\": \"#E5ECF6\", \"showlakes\": true, \"showland\": true, \"subunitcolor\": \"white\"}, \"hoverlabel\": {\"align\": \"left\"}, \"hovermode\": \"closest\", \"mapbox\": {\"style\": \"light\"}, \"paper_bgcolor\": \"white\", \"plot_bgcolor\": \"#E5ECF6\", \"polar\": {\"angularaxis\": {\"gridcolor\": \"white\", \"linecolor\": \"white\", \"ticks\": \"\"}, \"bgcolor\": \"#E5ECF6\", \"radialaxis\": {\"gridcolor\": \"white\", \"linecolor\": \"white\", \"ticks\": \"\"}}, \"scene\": {\"xaxis\": {\"backgroundcolor\": \"#E5ECF6\", \"gridcolor\": \"white\", \"gridwidth\": 2, \"linecolor\": \"white\", \"showbackground\": true, \"ticks\": \"\", \"zerolinecolor\": \"white\"}, \"yaxis\": {\"backgroundcolor\": \"#E5ECF6\", \"gridcolor\": \"white\", \"gridwidth\": 2, \"linecolor\": \"white\", \"showbackground\": true, \"ticks\": \"\", \"zerolinecolor\": \"white\"}, \"zaxis\": {\"backgroundcolor\": \"#E5ECF6\", \"gridcolor\": \"white\", \"gridwidth\": 2, \"linecolor\": \"white\", \"showbackground\": true, \"ticks\": \"\", \"zerolinecolor\": \"white\"}}, \"shapedefaults\": {\"line\": {\"color\": \"#2a3f5f\"}}, \"ternary\": {\"aaxis\": {\"gridcolor\": \"white\", \"linecolor\": \"white\", \"ticks\": \"\"}, \"baxis\": {\"gridcolor\": \"white\", \"linecolor\": \"white\", \"ticks\": \"\"}, \"bgcolor\": \"#E5ECF6\", \"caxis\": {\"gridcolor\": \"white\", \"linecolor\": \"white\", \"ticks\": \"\"}}, \"title\": {\"x\": 0.05}, \"xaxis\": {\"automargin\": true, \"gridcolor\": \"white\", \"linecolor\": \"white\", \"ticks\": \"\", \"title\": {\"standoff\": 15}, \"zerolinecolor\": \"white\", \"zerolinewidth\": 2}, \"yaxis\": {\"automargin\": true, \"gridcolor\": \"white\", \"linecolor\": \"white\", \"ticks\": \"\", \"title\": {\"standoff\": 15}, \"zerolinecolor\": \"white\", \"zerolinewidth\": 2}}}, \"width\": 500, \"xaxis\": {\"range\": [\"N_cont\", \"initflow\"], \"title\": {\"text\": \"$Compost\\\\ N\\\\ Content\\\\ (\\\\%)$\"}}, \"yaxis\": {\"range\": [\"Land_app\", \"MFEN\"], \"title\": {\"text\": \"$MFEN$\"}}},\n",
       "                        {\"toImageButtonOptions\": {\"format\": \"png\", \"filename\": \"custom_image\", \"height\": 700, \"width\": 700, \"scale\": 2}, \"responsive\": true}\n",
       "                    ).then(function(){\n",
       "                            \n",
       "var gd = document.getElementById('d9c73441-fe41-4967-af7a-e24cce48fee3');\n",
       "var x = new MutationObserver(function (mutations, observer) {{\n",
       "        var display = window.getComputedStyle(gd).display;\n",
       "        if (!display || display === 'none') {{\n",
       "            console.log([gd, 'removed!']);\n",
       "            Plotly.purge(gd);\n",
       "            observer.disconnect();\n",
       "        }}\n",
       "}});\n",
       "\n",
       "// Listen for the removal of the full notebook cells\n",
       "var notebookContainer = gd.closest('#notebook-container');\n",
       "if (notebookContainer) {{\n",
       "    x.observe(notebookContainer, {childList: true});\n",
       "}}\n",
       "\n",
       "// Listen for the clearing of the current output cell\n",
       "var outputEl = gd.closest('.output');\n",
       "if (outputEl) {{\n",
       "    x.observe(outputEl, {childList: true});\n",
       "}}\n",
       "\n",
       "                        })\n",
       "                };\n",
       "                });\n",
       "            </script>\n",
       "        </div>"
      ]
     },
     "metadata": {},
     "output_type": "display_data"
    }
   ],
   "source": [
    "inputdata = ADP\n",
    "ylab= '$MFEN$' \n",
    "xlab= '$Compost\\ N\\ Content\\ (\\%)$'\n",
    "font = 24\n",
    "\n",
    "fig = go.Figure(data =\n",
    "    go.Contour(\n",
    "        z=inputdata[inputdata.columns[0]].values.reshape((10,10)),\n",
    "        x=inputdata[inputdata.columns[2]].unique()*100, # horizontal axis\n",
    "        y=inputdata[inputdata.columns[1]].unique(), # vertical axis\n",
    "        colorscale='Jet',\n",
    "        contours=dict(\n",
    "            start= 0.000001,\n",
    "            end = 0.001,\n",
    "            size= 0.00005,\n",
    "            showlabels = True, # show labels on contours\n",
    "            labelfont = dict( # label font properties\n",
    "                size = font,\n",
    "                color = 'black')) ))\n",
    "\n",
    "fig.update_yaxes(title_font = {\"size\": font},range=[min(inputdata.columns[1]),max(inputdata.columns[1])])\n",
    "fig.update_xaxes(title_font = {\"size\": font},range=[min(inputdata.columns[2]),max(inputdata.columns[2])])\n",
    "\n",
    "fig.update_layout(\n",
    "    xaxis_title=xlab,\n",
    "    yaxis_title=ylab,\n",
    "    font=dict(family=\"sans serif\", size=font, color='black'),\n",
    "    autosize=False,\n",
    "    width=500,\n",
    "    height=500,\n",
    "    margin=dict(\n",
    "        l=50,\n",
    "        r=50,\n",
    "        b=100,\n",
    "        t=100,\n",
    "        pad=0))\n",
    "\n",
    "fig.add_trace(\n",
    "    go.Scatter(\n",
    "        x=[0.7, 2.8],\n",
    "        y=[0.6,0.6],\n",
    "        mode=\"lines\",\n",
    "        line = dict(color='white', width=2, dash='dash')\n",
    "        ,showlegend=False))\n",
    "\n",
    "fig.add_trace(\n",
    "    go.Scatter(\n",
    "        x=[1.5, 1.5],\n",
    "        y=[0.2,0.8],\n",
    "        mode=\"lines\",\n",
    "        line = dict(color='white', width=2, dash='dash'),\n",
    "        showlegend=False))\n",
    "\n",
    "fig.show(config=config)"
   ]
  },
  {
   "cell_type": "code",
   "execution_count": 11,
   "metadata": {},
   "outputs": [
    {
     "data": {
      "text/html": [
       "<div>\n",
       "<style scoped>\n",
       "    .dataframe tbody tr th:only-of-type {\n",
       "        vertical-align: middle;\n",
       "    }\n",
       "\n",
       "    .dataframe tbody tr th {\n",
       "        vertical-align: top;\n",
       "    }\n",
       "\n",
       "    .dataframe thead th {\n",
       "        text-align: right;\n",
       "    }\n",
       "</style>\n",
       "<table border=\"1\" class=\"dataframe\">\n",
       "  <thead>\n",
       "    <tr style=\"text-align: right;\">\n",
       "      <th></th>\n",
       "      <th>(CML (v4.4, 2015), resources, depletion of abiotic resources - elements, ultimate reserves)</th>\n",
       "      <th>(Land_app, MFEN)</th>\n",
       "      <th>(initflow, N_cont)</th>\n",
       "    </tr>\n",
       "  </thead>\n",
       "  <tbody>\n",
       "    <tr>\n",
       "      <th>0</th>\n",
       "      <td>0.000091</td>\n",
       "      <td>0.2</td>\n",
       "      <td>0.007000</td>\n",
       "    </tr>\n",
       "    <tr>\n",
       "      <th>1</th>\n",
       "      <td>0.000109</td>\n",
       "      <td>0.2</td>\n",
       "      <td>0.009333</td>\n",
       "    </tr>\n",
       "    <tr>\n",
       "      <th>2</th>\n",
       "      <td>0.000127</td>\n",
       "      <td>0.2</td>\n",
       "      <td>0.011667</td>\n",
       "    </tr>\n",
       "    <tr>\n",
       "      <th>3</th>\n",
       "      <td>0.000145</td>\n",
       "      <td>0.2</td>\n",
       "      <td>0.014000</td>\n",
       "    </tr>\n",
       "    <tr>\n",
       "      <th>4</th>\n",
       "      <td>0.000163</td>\n",
       "      <td>0.2</td>\n",
       "      <td>0.016333</td>\n",
       "    </tr>\n",
       "    <tr>\n",
       "      <th>...</th>\n",
       "      <td>...</td>\n",
       "      <td>...</td>\n",
       "      <td>...</td>\n",
       "    </tr>\n",
       "    <tr>\n",
       "      <th>95</th>\n",
       "      <td>0.000610</td>\n",
       "      <td>0.8</td>\n",
       "      <td>0.018667</td>\n",
       "    </tr>\n",
       "    <tr>\n",
       "      <th>96</th>\n",
       "      <td>0.000682</td>\n",
       "      <td>0.8</td>\n",
       "      <td>0.021000</td>\n",
       "    </tr>\n",
       "    <tr>\n",
       "      <th>97</th>\n",
       "      <td>0.000753</td>\n",
       "      <td>0.8</td>\n",
       "      <td>0.023333</td>\n",
       "    </tr>\n",
       "    <tr>\n",
       "      <th>98</th>\n",
       "      <td>0.000825</td>\n",
       "      <td>0.8</td>\n",
       "      <td>0.025667</td>\n",
       "    </tr>\n",
       "    <tr>\n",
       "      <th>99</th>\n",
       "      <td>0.000896</td>\n",
       "      <td>0.8</td>\n",
       "      <td>0.028000</td>\n",
       "    </tr>\n",
       "  </tbody>\n",
       "</table>\n",
       "<p>100 rows × 3 columns</p>\n",
       "</div>"
      ],
      "text/plain": [
       "    (CML (v4.4, 2015), resources, depletion of abiotic resources - elements, ultimate reserves)  \\\n",
       "0                                            0.000091                                             \n",
       "1                                            0.000109                                             \n",
       "2                                            0.000127                                             \n",
       "3                                            0.000145                                             \n",
       "4                                            0.000163                                             \n",
       "..                                                ...                                             \n",
       "95                                           0.000610                                             \n",
       "96                                           0.000682                                             \n",
       "97                                           0.000753                                             \n",
       "98                                           0.000825                                             \n",
       "99                                           0.000896                                             \n",
       "\n",
       "    (Land_app, MFEN)  (initflow, N_cont)  \n",
       "0                0.2            0.007000  \n",
       "1                0.2            0.009333  \n",
       "2                0.2            0.011667  \n",
       "3                0.2            0.014000  \n",
       "4                0.2            0.016333  \n",
       "..               ...                 ...  \n",
       "95               0.8            0.018667  \n",
       "96               0.8            0.021000  \n",
       "97               0.8            0.023333  \n",
       "98               0.8            0.025667  \n",
       "99               0.8            0.028000  \n",
       "\n",
       "[100 rows x 3 columns]"
      ]
     },
     "execution_count": 11,
     "metadata": {},
     "output_type": "execute_result"
    }
   ],
   "source": [
    "ADP"
   ]
  },
  {
   "cell_type": "code",
   "execution_count": 12,
   "metadata": {},
   "outputs": [
    {
     "data": {
      "text/html": [
       "<div>\n",
       "<style scoped>\n",
       "    .dataframe tbody tr th:only-of-type {\n",
       "        vertical-align: middle;\n",
       "    }\n",
       "\n",
       "    .dataframe tbody tr th {\n",
       "        vertical-align: top;\n",
       "    }\n",
       "\n",
       "    .dataframe thead th {\n",
       "        text-align: right;\n",
       "    }\n",
       "</style>\n",
       "<table border=\"1\" class=\"dataframe\">\n",
       "  <thead>\n",
       "    <tr style=\"text-align: right;\">\n",
       "      <th></th>\n",
       "      <th>(CML (v4.4, 2015), resources, depletion of abiotic resources - elements, ultimate reserves)</th>\n",
       "      <th>(Land_app, MFEN)</th>\n",
       "      <th>(initflow, N_cont)</th>\n",
       "    </tr>\n",
       "  </thead>\n",
       "  <tbody>\n",
       "    <tr>\n",
       "      <th>count</th>\n",
       "      <td>100.000000</td>\n",
       "      <td>100.000000</td>\n",
       "      <td>100.000000</td>\n",
       "    </tr>\n",
       "    <tr>\n",
       "      <th>mean</th>\n",
       "      <td>0.000373</td>\n",
       "      <td>0.500000</td>\n",
       "      <td>0.017500</td>\n",
       "    </tr>\n",
       "    <tr>\n",
       "      <th>std</th>\n",
       "      <td>0.000189</td>\n",
       "      <td>0.192450</td>\n",
       "      <td>0.006736</td>\n",
       "    </tr>\n",
       "    <tr>\n",
       "      <th>min</th>\n",
       "      <td>0.000091</td>\n",
       "      <td>0.200000</td>\n",
       "      <td>0.007000</td>\n",
       "    </tr>\n",
       "    <tr>\n",
       "      <th>25%</th>\n",
       "      <td>0.000225</td>\n",
       "      <td>0.333333</td>\n",
       "      <td>0.011667</td>\n",
       "    </tr>\n",
       "    <tr>\n",
       "      <th>50%</th>\n",
       "      <td>0.000327</td>\n",
       "      <td>0.500000</td>\n",
       "      <td>0.017500</td>\n",
       "    </tr>\n",
       "    <tr>\n",
       "      <th>75%</th>\n",
       "      <td>0.000497</td>\n",
       "      <td>0.666667</td>\n",
       "      <td>0.023333</td>\n",
       "    </tr>\n",
       "    <tr>\n",
       "      <th>max</th>\n",
       "      <td>0.000896</td>\n",
       "      <td>0.800000</td>\n",
       "      <td>0.028000</td>\n",
       "    </tr>\n",
       "  </tbody>\n",
       "</table>\n",
       "</div>"
      ],
      "text/plain": [
       "       (CML (v4.4, 2015), resources, depletion of abiotic resources - elements, ultimate reserves)  \\\n",
       "count                                         100.000000                                             \n",
       "mean                                            0.000373                                             \n",
       "std                                             0.000189                                             \n",
       "min                                             0.000091                                             \n",
       "25%                                             0.000225                                             \n",
       "50%                                             0.000327                                             \n",
       "75%                                             0.000497                                             \n",
       "max                                             0.000896                                             \n",
       "\n",
       "       (Land_app, MFEN)  (initflow, N_cont)  \n",
       "count        100.000000          100.000000  \n",
       "mean           0.500000            0.017500  \n",
       "std            0.192450            0.006736  \n",
       "min            0.200000            0.007000  \n",
       "25%            0.333333            0.011667  \n",
       "50%            0.500000            0.017500  \n",
       "75%            0.666667            0.023333  \n",
       "max            0.800000            0.028000  "
      ]
     },
     "execution_count": 12,
     "metadata": {},
     "output_type": "execute_result"
    }
   ],
   "source": [
    "ADP.describe()"
   ]
  },
  {
   "cell_type": "code",
   "execution_count": null,
   "metadata": {},
   "outputs": [],
   "source": []
  }
 ],
 "metadata": {
  "kernelspec": {
   "display_name": "Python 3",
   "language": "python",
   "name": "python3"
  },
  "language_info": {
   "codemirror_mode": {
    "name": "ipython",
    "version": 3
   },
   "file_extension": ".py",
   "mimetype": "text/x-python",
   "name": "python",
   "nbconvert_exporter": "python",
   "pygments_lexer": "ipython3",
   "version": "3.6.9"
  }
 },
 "nbformat": 4,
 "nbformat_minor": 4
}
